{
  "nbformat": 4,
  "nbformat_minor": 5,
  "metadata": {
    "kernelspec": {
      "display_name": "Python 3",
      "language": "python",
      "name": "python3"
    },
    "language_info": {
      "codemirror_mode": {
        "name": "ipython",
        "version": 3
      },
      "file_extension": ".py",
      "mimetype": "text/x-python",
      "name": "python",
      "nbconvert_exporter": "python",
      "pygments_lexer": "ipython3",
      "version": "3.9.5"
    },
    "colab": {
      "name": " PyTorch-ImageSegmentation_test.ipynb",
      "provenance": [],
      "collapsed_sections": []
    },
    "accelerator": "GPU",
    "widgets": {
      "application/vnd.jupyter.widget-state+json": {
        "a0fbec6644804ffebb541cb133372f94": {
          "model_module": "@jupyter-widgets/controls",
          "model_name": "HBoxModel",
          "model_module_version": "1.5.0",
          "state": {
            "_view_name": "HBoxView",
            "_dom_classes": [],
            "_model_name": "HBoxModel",
            "_view_module": "@jupyter-widgets/controls",
            "_model_module_version": "1.5.0",
            "_view_count": null,
            "_view_module_version": "1.5.0",
            "box_style": "",
            "layout": "IPY_MODEL_2cdd32a49dd9456b8d7f1a62be7f700a",
            "_model_module": "@jupyter-widgets/controls",
            "children": [
              "IPY_MODEL_951f69b914114f9fb08e5d824b59abe7",
              "IPY_MODEL_6522df4346df442f88b8d873537e674e",
              "IPY_MODEL_3595116551d646c0899b6ce931e0eb8d"
            ]
          }
        },
        "2cdd32a49dd9456b8d7f1a62be7f700a": {
          "model_module": "@jupyter-widgets/base",
          "model_name": "LayoutModel",
          "model_module_version": "1.2.0",
          "state": {
            "_view_name": "LayoutView",
            "grid_template_rows": null,
            "right": null,
            "justify_content": null,
            "_view_module": "@jupyter-widgets/base",
            "overflow": null,
            "_model_module_version": "1.2.0",
            "_view_count": null,
            "flex_flow": null,
            "width": null,
            "min_width": null,
            "border": null,
            "align_items": null,
            "bottom": null,
            "_model_module": "@jupyter-widgets/base",
            "top": null,
            "grid_column": null,
            "overflow_y": null,
            "overflow_x": null,
            "grid_auto_flow": null,
            "grid_area": null,
            "grid_template_columns": null,
            "flex": null,
            "_model_name": "LayoutModel",
            "justify_items": null,
            "grid_row": null,
            "max_height": null,
            "align_content": null,
            "visibility": null,
            "align_self": null,
            "height": null,
            "min_height": null,
            "padding": null,
            "grid_auto_rows": null,
            "grid_gap": null,
            "max_width": null,
            "order": null,
            "_view_module_version": "1.2.0",
            "grid_template_areas": null,
            "object_position": null,
            "object_fit": null,
            "grid_auto_columns": null,
            "margin": null,
            "display": null,
            "left": null
          }
        },
        "951f69b914114f9fb08e5d824b59abe7": {
          "model_module": "@jupyter-widgets/controls",
          "model_name": "HTMLModel",
          "model_module_version": "1.5.0",
          "state": {
            "_view_name": "HTMLView",
            "style": "IPY_MODEL_41a609a800b04140a4bc4fb5d4ab1733",
            "_dom_classes": [],
            "description": "",
            "_model_name": "HTMLModel",
            "placeholder": "​",
            "_view_module": "@jupyter-widgets/controls",
            "_model_module_version": "1.5.0",
            "value": "100%",
            "_view_count": null,
            "_view_module_version": "1.5.0",
            "description_tooltip": null,
            "_model_module": "@jupyter-widgets/controls",
            "layout": "IPY_MODEL_01a61b6ac0fa47909d745311e5d081f5"
          }
        },
        "6522df4346df442f88b8d873537e674e": {
          "model_module": "@jupyter-widgets/controls",
          "model_name": "FloatProgressModel",
          "model_module_version": "1.5.0",
          "state": {
            "_view_name": "ProgressView",
            "style": "IPY_MODEL_5edf92986a1346f09b0ac13ffac38436",
            "_dom_classes": [],
            "description": "",
            "_model_name": "FloatProgressModel",
            "bar_style": "success",
            "max": 21383997,
            "_view_module": "@jupyter-widgets/controls",
            "_model_module_version": "1.5.0",
            "value": 21383997,
            "_view_count": null,
            "_view_module_version": "1.5.0",
            "orientation": "horizontal",
            "min": 0,
            "description_tooltip": null,
            "_model_module": "@jupyter-widgets/controls",
            "layout": "IPY_MODEL_2ecd1818a9724a969713fbd83e7815d8"
          }
        },
        "3595116551d646c0899b6ce931e0eb8d": {
          "model_module": "@jupyter-widgets/controls",
          "model_name": "HTMLModel",
          "model_module_version": "1.5.0",
          "state": {
            "_view_name": "HTMLView",
            "style": "IPY_MODEL_d2e81984903f4515afa0aa7af98d052c",
            "_dom_classes": [],
            "description": "",
            "_model_name": "HTMLModel",
            "placeholder": "​",
            "_view_module": "@jupyter-widgets/controls",
            "_model_module_version": "1.5.0",
            "value": " 20.4M/20.4M [00:00&lt;00:00, 99.6MB/s]",
            "_view_count": null,
            "_view_module_version": "1.5.0",
            "description_tooltip": null,
            "_model_module": "@jupyter-widgets/controls",
            "layout": "IPY_MODEL_da16498db769482ea40d9cb2cb0ba7a9"
          }
        },
        "41a609a800b04140a4bc4fb5d4ab1733": {
          "model_module": "@jupyter-widgets/controls",
          "model_name": "DescriptionStyleModel",
          "model_module_version": "1.5.0",
          "state": {
            "_view_name": "StyleView",
            "_model_name": "DescriptionStyleModel",
            "description_width": "",
            "_view_module": "@jupyter-widgets/base",
            "_model_module_version": "1.5.0",
            "_view_count": null,
            "_view_module_version": "1.2.0",
            "_model_module": "@jupyter-widgets/controls"
          }
        },
        "01a61b6ac0fa47909d745311e5d081f5": {
          "model_module": "@jupyter-widgets/base",
          "model_name": "LayoutModel",
          "model_module_version": "1.2.0",
          "state": {
            "_view_name": "LayoutView",
            "grid_template_rows": null,
            "right": null,
            "justify_content": null,
            "_view_module": "@jupyter-widgets/base",
            "overflow": null,
            "_model_module_version": "1.2.0",
            "_view_count": null,
            "flex_flow": null,
            "width": null,
            "min_width": null,
            "border": null,
            "align_items": null,
            "bottom": null,
            "_model_module": "@jupyter-widgets/base",
            "top": null,
            "grid_column": null,
            "overflow_y": null,
            "overflow_x": null,
            "grid_auto_flow": null,
            "grid_area": null,
            "grid_template_columns": null,
            "flex": null,
            "_model_name": "LayoutModel",
            "justify_items": null,
            "grid_row": null,
            "max_height": null,
            "align_content": null,
            "visibility": null,
            "align_self": null,
            "height": null,
            "min_height": null,
            "padding": null,
            "grid_auto_rows": null,
            "grid_gap": null,
            "max_width": null,
            "order": null,
            "_view_module_version": "1.2.0",
            "grid_template_areas": null,
            "object_position": null,
            "object_fit": null,
            "grid_auto_columns": null,
            "margin": null,
            "display": null,
            "left": null
          }
        },
        "5edf92986a1346f09b0ac13ffac38436": {
          "model_module": "@jupyter-widgets/controls",
          "model_name": "ProgressStyleModel",
          "model_module_version": "1.5.0",
          "state": {
            "_view_name": "StyleView",
            "_model_name": "ProgressStyleModel",
            "description_width": "",
            "_view_module": "@jupyter-widgets/base",
            "_model_module_version": "1.5.0",
            "_view_count": null,
            "_view_module_version": "1.2.0",
            "bar_color": null,
            "_model_module": "@jupyter-widgets/controls"
          }
        },
        "2ecd1818a9724a969713fbd83e7815d8": {
          "model_module": "@jupyter-widgets/base",
          "model_name": "LayoutModel",
          "model_module_version": "1.2.0",
          "state": {
            "_view_name": "LayoutView",
            "grid_template_rows": null,
            "right": null,
            "justify_content": null,
            "_view_module": "@jupyter-widgets/base",
            "overflow": null,
            "_model_module_version": "1.2.0",
            "_view_count": null,
            "flex_flow": null,
            "width": null,
            "min_width": null,
            "border": null,
            "align_items": null,
            "bottom": null,
            "_model_module": "@jupyter-widgets/base",
            "top": null,
            "grid_column": null,
            "overflow_y": null,
            "overflow_x": null,
            "grid_auto_flow": null,
            "grid_area": null,
            "grid_template_columns": null,
            "flex": null,
            "_model_name": "LayoutModel",
            "justify_items": null,
            "grid_row": null,
            "max_height": null,
            "align_content": null,
            "visibility": null,
            "align_self": null,
            "height": null,
            "min_height": null,
            "padding": null,
            "grid_auto_rows": null,
            "grid_gap": null,
            "max_width": null,
            "order": null,
            "_view_module_version": "1.2.0",
            "grid_template_areas": null,
            "object_position": null,
            "object_fit": null,
            "grid_auto_columns": null,
            "margin": null,
            "display": null,
            "left": null
          }
        },
        "d2e81984903f4515afa0aa7af98d052c": {
          "model_module": "@jupyter-widgets/controls",
          "model_name": "DescriptionStyleModel",
          "model_module_version": "1.5.0",
          "state": {
            "_view_name": "StyleView",
            "_model_name": "DescriptionStyleModel",
            "description_width": "",
            "_view_module": "@jupyter-widgets/base",
            "_model_module_version": "1.5.0",
            "_view_count": null,
            "_view_module_version": "1.2.0",
            "_model_module": "@jupyter-widgets/controls"
          }
        },
        "da16498db769482ea40d9cb2cb0ba7a9": {
          "model_module": "@jupyter-widgets/base",
          "model_name": "LayoutModel",
          "model_module_version": "1.2.0",
          "state": {
            "_view_name": "LayoutView",
            "grid_template_rows": null,
            "right": null,
            "justify_content": null,
            "_view_module": "@jupyter-widgets/base",
            "overflow": null,
            "_model_module_version": "1.2.0",
            "_view_count": null,
            "flex_flow": null,
            "width": null,
            "min_width": null,
            "border": null,
            "align_items": null,
            "bottom": null,
            "_model_module": "@jupyter-widgets/base",
            "top": null,
            "grid_column": null,
            "overflow_y": null,
            "overflow_x": null,
            "grid_auto_flow": null,
            "grid_area": null,
            "grid_template_columns": null,
            "flex": null,
            "_model_name": "LayoutModel",
            "justify_items": null,
            "grid_row": null,
            "max_height": null,
            "align_content": null,
            "visibility": null,
            "align_self": null,
            "height": null,
            "min_height": null,
            "padding": null,
            "grid_auto_rows": null,
            "grid_gap": null,
            "max_width": null,
            "order": null,
            "_view_module_version": "1.2.0",
            "grid_template_areas": null,
            "object_position": null,
            "object_fit": null,
            "grid_auto_columns": null,
            "margin": null,
            "display": null,
            "left": null
          }
        }
      }
    }
  },
  "cells": [
    {
      "cell_type": "markdown",
      "metadata": {
        "id": "RK_xW9gR6bta"
      },
      "source": [
        "# Seting up colab gpu runtime environment"
      ],
      "id": "RK_xW9gR6bta"
    },
    {
      "cell_type": "code",
      "metadata": {
        "id": "Trj2m5ohqPY8",
        "outputId": "4b44b6e1-1362-4fdc-eb5c-b4941edda865",
        "colab": {
          "base_uri": "https://localhost:8080/"
        }
      },
      "source": [
        "!pip install segmentation-models-pytorch\n",
        "!pip install -U git+https://github.com/albumentations-team/albumentations\n",
        "!pip install --upgrade opencv-contrib-python"
      ],
      "id": "Trj2m5ohqPY8",
      "execution_count": 1,
      "outputs": [
        {
          "output_type": "stream",
          "name": "stdout",
          "text": [
            "Collecting segmentation-models-pytorch\n",
            "  Downloading segmentation_models_pytorch-0.2.1-py3-none-any.whl (88 kB)\n",
            "\u001b[K     |████████████████████████████████| 88 kB 3.2 MB/s \n",
            "\u001b[?25hCollecting timm==0.4.12\n",
            "  Downloading timm-0.4.12-py3-none-any.whl (376 kB)\n",
            "\u001b[K     |████████████████████████████████| 376 kB 18.9 MB/s \n",
            "\u001b[?25hCollecting pretrainedmodels==0.7.4\n",
            "  Downloading pretrainedmodels-0.7.4.tar.gz (58 kB)\n",
            "\u001b[K     |████████████████████████████████| 58 kB 5.3 MB/s \n",
            "\u001b[?25hCollecting efficientnet-pytorch==0.6.3\n",
            "  Downloading efficientnet_pytorch-0.6.3.tar.gz (16 kB)\n",
            "Requirement already satisfied: torchvision>=0.5.0 in /usr/local/lib/python3.7/dist-packages (from segmentation-models-pytorch) (0.11.1+cu111)\n",
            "Requirement already satisfied: torch in /usr/local/lib/python3.7/dist-packages (from efficientnet-pytorch==0.6.3->segmentation-models-pytorch) (1.10.0+cu111)\n",
            "Collecting munch\n",
            "  Downloading munch-2.5.0-py2.py3-none-any.whl (10 kB)\n",
            "Requirement already satisfied: tqdm in /usr/local/lib/python3.7/dist-packages (from pretrainedmodels==0.7.4->segmentation-models-pytorch) (4.62.3)\n",
            "Requirement already satisfied: typing-extensions in /usr/local/lib/python3.7/dist-packages (from torch->efficientnet-pytorch==0.6.3->segmentation-models-pytorch) (3.10.0.2)\n",
            "Requirement already satisfied: numpy in /usr/local/lib/python3.7/dist-packages (from torchvision>=0.5.0->segmentation-models-pytorch) (1.19.5)\n",
            "Requirement already satisfied: pillow!=8.3.0,>=5.3.0 in /usr/local/lib/python3.7/dist-packages (from torchvision>=0.5.0->segmentation-models-pytorch) (7.1.2)\n",
            "Requirement already satisfied: six in /usr/local/lib/python3.7/dist-packages (from munch->pretrainedmodels==0.7.4->segmentation-models-pytorch) (1.15.0)\n",
            "Building wheels for collected packages: efficientnet-pytorch, pretrainedmodels\n",
            "  Building wheel for efficientnet-pytorch (setup.py) ... \u001b[?25l\u001b[?25hdone\n",
            "  Created wheel for efficientnet-pytorch: filename=efficientnet_pytorch-0.6.3-py3-none-any.whl size=12421 sha256=78e861416964de0759c282825a0ff1734bcd09e23a3a5aab3f89d872bf314175\n",
            "  Stored in directory: /root/.cache/pip/wheels/90/6b/0c/f0ad36d00310e65390b0d4c9218ae6250ac579c92540c9097a\n",
            "  Building wheel for pretrainedmodels (setup.py) ... \u001b[?25l\u001b[?25hdone\n",
            "  Created wheel for pretrainedmodels: filename=pretrainedmodels-0.7.4-py3-none-any.whl size=60965 sha256=59d8b8b409787ad5fd1dbae26a4afbf1c67bc760e2057d0314f6e21dd73d594a\n",
            "  Stored in directory: /root/.cache/pip/wheels/ed/27/e8/9543d42de2740d3544db96aefef63bda3f2c1761b3334f4873\n",
            "Successfully built efficientnet-pytorch pretrainedmodels\n",
            "Installing collected packages: munch, timm, pretrainedmodels, efficientnet-pytorch, segmentation-models-pytorch\n",
            "Successfully installed efficientnet-pytorch-0.6.3 munch-2.5.0 pretrainedmodels-0.7.4 segmentation-models-pytorch-0.2.1 timm-0.4.12\n",
            "Collecting git+https://github.com/albumentations-team/albumentations\n",
            "  Cloning https://github.com/albumentations-team/albumentations to /tmp/pip-req-build-p3nvhkq1\n",
            "  Running command git clone -q https://github.com/albumentations-team/albumentations /tmp/pip-req-build-p3nvhkq1\n",
            "Requirement already satisfied: numpy>=1.11.1 in /usr/local/lib/python3.7/dist-packages (from albumentations==1.1.0) (1.19.5)\n",
            "Requirement already satisfied: scipy in /usr/local/lib/python3.7/dist-packages (from albumentations==1.1.0) (1.4.1)\n",
            "Requirement already satisfied: scikit-image<0.19,>=0.16.1 in /usr/local/lib/python3.7/dist-packages (from albumentations==1.1.0) (0.18.3)\n",
            "Requirement already satisfied: PyYAML in /usr/local/lib/python3.7/dist-packages (from albumentations==1.1.0) (3.13)\n",
            "Collecting qudida>=0.0.4\n",
            "  Downloading qudida-0.0.4-py3-none-any.whl (3.5 kB)\n",
            "Requirement already satisfied: opencv-python>=4.1.1 in /usr/local/lib/python3.7/dist-packages (from albumentations==1.1.0) (4.1.2.30)\n",
            "Collecting opencv-python-headless>=4.0.1\n",
            "  Downloading opencv_python_headless-4.5.5.62-cp36-abi3-manylinux_2_17_x86_64.manylinux2014_x86_64.whl (47.7 MB)\n",
            "\u001b[K     |████████████████████████████████| 47.7 MB 3.0 MB/s \n",
            "\u001b[?25hRequirement already satisfied: scikit-learn>=0.19.1 in /usr/local/lib/python3.7/dist-packages (from qudida>=0.0.4->albumentations==1.1.0) (1.0.1)\n",
            "Requirement already satisfied: typing-extensions in /usr/local/lib/python3.7/dist-packages (from qudida>=0.0.4->albumentations==1.1.0) (3.10.0.2)\n",
            "Requirement already satisfied: tifffile>=2019.7.26 in /usr/local/lib/python3.7/dist-packages (from scikit-image<0.19,>=0.16.1->albumentations==1.1.0) (2021.11.2)\n",
            "Requirement already satisfied: matplotlib!=3.0.0,>=2.0.0 in /usr/local/lib/python3.7/dist-packages (from scikit-image<0.19,>=0.16.1->albumentations==1.1.0) (3.2.2)\n",
            "Requirement already satisfied: pillow!=7.1.0,!=7.1.1,>=4.3.0 in /usr/local/lib/python3.7/dist-packages (from scikit-image<0.19,>=0.16.1->albumentations==1.1.0) (7.1.2)\n",
            "Requirement already satisfied: PyWavelets>=1.1.1 in /usr/local/lib/python3.7/dist-packages (from scikit-image<0.19,>=0.16.1->albumentations==1.1.0) (1.2.0)\n",
            "Requirement already satisfied: imageio>=2.3.0 in /usr/local/lib/python3.7/dist-packages (from scikit-image<0.19,>=0.16.1->albumentations==1.1.0) (2.4.1)\n",
            "Requirement already satisfied: networkx>=2.0 in /usr/local/lib/python3.7/dist-packages (from scikit-image<0.19,>=0.16.1->albumentations==1.1.0) (2.6.3)\n",
            "Requirement already satisfied: python-dateutil>=2.1 in /usr/local/lib/python3.7/dist-packages (from matplotlib!=3.0.0,>=2.0.0->scikit-image<0.19,>=0.16.1->albumentations==1.1.0) (2.8.2)\n",
            "Requirement already satisfied: cycler>=0.10 in /usr/local/lib/python3.7/dist-packages (from matplotlib!=3.0.0,>=2.0.0->scikit-image<0.19,>=0.16.1->albumentations==1.1.0) (0.11.0)\n",
            "Requirement already satisfied: kiwisolver>=1.0.1 in /usr/local/lib/python3.7/dist-packages (from matplotlib!=3.0.0,>=2.0.0->scikit-image<0.19,>=0.16.1->albumentations==1.1.0) (1.3.2)\n",
            "Requirement already satisfied: pyparsing!=2.0.4,!=2.1.2,!=2.1.6,>=2.0.1 in /usr/local/lib/python3.7/dist-packages (from matplotlib!=3.0.0,>=2.0.0->scikit-image<0.19,>=0.16.1->albumentations==1.1.0) (3.0.6)\n",
            "Requirement already satisfied: six>=1.5 in /usr/local/lib/python3.7/dist-packages (from python-dateutil>=2.1->matplotlib!=3.0.0,>=2.0.0->scikit-image<0.19,>=0.16.1->albumentations==1.1.0) (1.15.0)\n",
            "Requirement already satisfied: joblib>=0.11 in /usr/local/lib/python3.7/dist-packages (from scikit-learn>=0.19.1->qudida>=0.0.4->albumentations==1.1.0) (1.1.0)\n",
            "Requirement already satisfied: threadpoolctl>=2.0.0 in /usr/local/lib/python3.7/dist-packages (from scikit-learn>=0.19.1->qudida>=0.0.4->albumentations==1.1.0) (3.0.0)\n",
            "Building wheels for collected packages: albumentations\n",
            "  Building wheel for albumentations (setup.py) ... \u001b[?25l\u001b[?25hdone\n",
            "  Created wheel for albumentations: filename=albumentations-1.1.0-py3-none-any.whl size=112538 sha256=639e7b5368d08d60a376880dc85e6f7b29f673265997dcc4424577f71b8fa79e\n",
            "  Stored in directory: /tmp/pip-ephem-wheel-cache-i6vel42d/wheels/3a/25/ed/ec3b518e7a332d7f0a3bb37c280e1b784cf2f79b94b3c7d00b\n",
            "Successfully built albumentations\n",
            "Installing collected packages: opencv-python-headless, qudida, albumentations\n",
            "  Attempting uninstall: albumentations\n",
            "    Found existing installation: albumentations 0.1.12\n",
            "    Uninstalling albumentations-0.1.12:\n",
            "      Successfully uninstalled albumentations-0.1.12\n",
            "Successfully installed albumentations-1.1.0 opencv-python-headless-4.5.5.62 qudida-0.0.4\n",
            "Requirement already satisfied: opencv-contrib-python in /usr/local/lib/python3.7/dist-packages (4.1.2.30)\n",
            "Collecting opencv-contrib-python\n",
            "  Downloading opencv_contrib_python-4.5.5.62-cp36-abi3-manylinux_2_17_x86_64.manylinux2014_x86_64.whl (66.6 MB)\n",
            "\u001b[K     |████████████████████████████████| 66.6 MB 1.3 MB/s \n",
            "\u001b[?25hRequirement already satisfied: numpy>=1.14.5 in /usr/local/lib/python3.7/dist-packages (from opencv-contrib-python) (1.19.5)\n",
            "Installing collected packages: opencv-contrib-python\n",
            "  Attempting uninstall: opencv-contrib-python\n",
            "    Found existing installation: opencv-contrib-python 4.1.2.30\n",
            "    Uninstalling opencv-contrib-python-4.1.2.30:\n",
            "      Successfully uninstalled opencv-contrib-python-4.1.2.30\n",
            "Successfully installed opencv-contrib-python-4.5.5.62\n"
          ]
        }
      ]
    },
    {
      "cell_type": "markdown",
      "metadata": {
        "id": "7kVJz-wpTERY"
      },
      "source": [
        "# Downloading Dataset\n",
        "\n",
        "\n"
      ],
      "id": "7kVJz-wpTERY"
    },
    {
      "cell_type": "code",
      "metadata": {
        "id": "jKFIZ8IlTDgT",
        "outputId": "ab00f6c3-f3e5-4431-ba7c-8c1e941d0753",
        "colab": {
          "base_uri": "https://localhost:8080/"
        }
      },
      "source": [
        "!git clone https://github.com/parth1620/Human-Segmentation-Dataset-master.git"
      ],
      "id": "jKFIZ8IlTDgT",
      "execution_count": 2,
      "outputs": [
        {
          "output_type": "stream",
          "name": "stdout",
          "text": [
            "Cloning into 'Human-Segmentation-Dataset-master'...\n",
            "remote: Enumerating objects: 592, done.\u001b[K\n",
            "remote: Counting objects: 100% (592/592), done.\u001b[K\n",
            "remote: Compressing objects: 100% (591/591), done.\u001b[K\n",
            "remote: Total 592 (delta 3), reused 587 (delta 1), pack-reused 0\u001b[K\n",
            "Receiving objects: 100% (592/592), 13.60 MiB | 11.76 MiB/s, done.\n",
            "Resolving deltas: 100% (3/3), done.\n"
          ]
        }
      ]
    },
    {
      "cell_type": "markdown",
      "metadata": {
        "id": "NXcstKkYxaEm"
      },
      "source": [
        ""
      ],
      "id": "NXcstKkYxaEm"
    },
    {
      "cell_type": "markdown",
      "metadata": {
        "id": "compliant-gossip"
      },
      "source": [
        "# Common Imports"
      ],
      "id": "compliant-gossip"
    },
    {
      "cell_type": "code",
      "metadata": {
        "id": "0F7rW6SNTn5r"
      },
      "source": [
        "import sys\n",
        "sys.path.append('/content/Human-Segmentation-Dataset-master')"
      ],
      "id": "0F7rW6SNTn5r",
      "execution_count": 3,
      "outputs": []
    },
    {
      "cell_type": "code",
      "metadata": {
        "id": "unlikely-winner"
      },
      "source": [
        "import torch \n",
        "import cv2\n",
        "\n",
        "import numpy as np \n",
        "import pandas as pd\n",
        "import matplotlib.pyplot as plt \n",
        "\n",
        "from sklearn.model_selection import train_test_split\n",
        "from tqdm import tqdm\n",
        "\n",
        "import helper"
      ],
      "id": "unlikely-winner",
      "execution_count": 4,
      "outputs": []
    },
    {
      "cell_type": "markdown",
      "metadata": {
        "id": "moved-bottle"
      },
      "source": [
        "#  Setuping up Configurations"
      ],
      "id": "moved-bottle"
    },
    {
      "cell_type": "code",
      "metadata": {
        "id": "interim-grant"
      },
      "source": [
        "CSV_FILE='/content/Human-Segmentation-Dataset-master/train.csv'\n",
        "DATA_DIR='/content/'\n",
        "\n",
        "DEVICE='cuda'\n",
        "\n",
        "EPOCHS=25\n",
        "\n",
        "LR=0.003\n",
        "IMAGE_SIZE=320\n",
        "BATCH_SIZE=16\n",
        "ENCODER='timm-regnety_320'\n",
        "WIEGHTS='imagenet'"
      ],
      "id": "interim-grant",
      "execution_count": 36,
      "outputs": []
    },
    {
      "cell_type": "code",
      "metadata": {
        "id": "cooked-stranger",
        "outputId": "41705709-f661-4b68-bdd8-b4b849c2b636",
        "colab": {
          "base_uri": "https://localhost:8080/",
          "height": 206
        }
      },
      "source": [
        "df=pd.read_csv(CSV_FILE)\n",
        "df.head()"
      ],
      "id": "cooked-stranger",
      "execution_count": 6,
      "outputs": [
        {
          "output_type": "execute_result",
          "data": {
            "text/html": [
              "\n",
              "  <div id=\"df-705c42b8-7fe7-4657-a33b-9ac64f963523\">\n",
              "    <div class=\"colab-df-container\">\n",
              "      <div>\n",
              "<style scoped>\n",
              "    .dataframe tbody tr th:only-of-type {\n",
              "        vertical-align: middle;\n",
              "    }\n",
              "\n",
              "    .dataframe tbody tr th {\n",
              "        vertical-align: top;\n",
              "    }\n",
              "\n",
              "    .dataframe thead th {\n",
              "        text-align: right;\n",
              "    }\n",
              "</style>\n",
              "<table border=\"1\" class=\"dataframe\">\n",
              "  <thead>\n",
              "    <tr style=\"text-align: right;\">\n",
              "      <th></th>\n",
              "      <th>masks</th>\n",
              "      <th>images</th>\n",
              "    </tr>\n",
              "  </thead>\n",
              "  <tbody>\n",
              "    <tr>\n",
              "      <th>0</th>\n",
              "      <td>Human-Segmentation-Dataset-master/Ground_Truth...</td>\n",
              "      <td>Human-Segmentation-Dataset-master/Training_Ima...</td>\n",
              "    </tr>\n",
              "    <tr>\n",
              "      <th>1</th>\n",
              "      <td>Human-Segmentation-Dataset-master/Ground_Truth...</td>\n",
              "      <td>Human-Segmentation-Dataset-master/Training_Ima...</td>\n",
              "    </tr>\n",
              "    <tr>\n",
              "      <th>2</th>\n",
              "      <td>Human-Segmentation-Dataset-master/Ground_Truth...</td>\n",
              "      <td>Human-Segmentation-Dataset-master/Training_Ima...</td>\n",
              "    </tr>\n",
              "    <tr>\n",
              "      <th>3</th>\n",
              "      <td>Human-Segmentation-Dataset-master/Ground_Truth...</td>\n",
              "      <td>Human-Segmentation-Dataset-master/Training_Ima...</td>\n",
              "    </tr>\n",
              "    <tr>\n",
              "      <th>4</th>\n",
              "      <td>Human-Segmentation-Dataset-master/Ground_Truth...</td>\n",
              "      <td>Human-Segmentation-Dataset-master/Training_Ima...</td>\n",
              "    </tr>\n",
              "  </tbody>\n",
              "</table>\n",
              "</div>\n",
              "      <button class=\"colab-df-convert\" onclick=\"convertToInteractive('df-705c42b8-7fe7-4657-a33b-9ac64f963523')\"\n",
              "              title=\"Convert this dataframe to an interactive table.\"\n",
              "              style=\"display:none;\">\n",
              "        \n",
              "  <svg xmlns=\"http://www.w3.org/2000/svg\" height=\"24px\"viewBox=\"0 0 24 24\"\n",
              "       width=\"24px\">\n",
              "    <path d=\"M0 0h24v24H0V0z\" fill=\"none\"/>\n",
              "    <path d=\"M18.56 5.44l.94 2.06.94-2.06 2.06-.94-2.06-.94-.94-2.06-.94 2.06-2.06.94zm-11 1L8.5 8.5l.94-2.06 2.06-.94-2.06-.94L8.5 2.5l-.94 2.06-2.06.94zm10 10l.94 2.06.94-2.06 2.06-.94-2.06-.94-.94-2.06-.94 2.06-2.06.94z\"/><path d=\"M17.41 7.96l-1.37-1.37c-.4-.4-.92-.59-1.43-.59-.52 0-1.04.2-1.43.59L10.3 9.45l-7.72 7.72c-.78.78-.78 2.05 0 2.83L4 21.41c.39.39.9.59 1.41.59.51 0 1.02-.2 1.41-.59l7.78-7.78 2.81-2.81c.8-.78.8-2.07 0-2.86zM5.41 20L4 18.59l7.72-7.72 1.47 1.35L5.41 20z\"/>\n",
              "  </svg>\n",
              "      </button>\n",
              "      \n",
              "  <style>\n",
              "    .colab-df-container {\n",
              "      display:flex;\n",
              "      flex-wrap:wrap;\n",
              "      gap: 12px;\n",
              "    }\n",
              "\n",
              "    .colab-df-convert {\n",
              "      background-color: #E8F0FE;\n",
              "      border: none;\n",
              "      border-radius: 50%;\n",
              "      cursor: pointer;\n",
              "      display: none;\n",
              "      fill: #1967D2;\n",
              "      height: 32px;\n",
              "      padding: 0 0 0 0;\n",
              "      width: 32px;\n",
              "    }\n",
              "\n",
              "    .colab-df-convert:hover {\n",
              "      background-color: #E2EBFA;\n",
              "      box-shadow: 0px 1px 2px rgba(60, 64, 67, 0.3), 0px 1px 3px 1px rgba(60, 64, 67, 0.15);\n",
              "      fill: #174EA6;\n",
              "    }\n",
              "\n",
              "    [theme=dark] .colab-df-convert {\n",
              "      background-color: #3B4455;\n",
              "      fill: #D2E3FC;\n",
              "    }\n",
              "\n",
              "    [theme=dark] .colab-df-convert:hover {\n",
              "      background-color: #434B5C;\n",
              "      box-shadow: 0px 1px 3px 1px rgba(0, 0, 0, 0.15);\n",
              "      filter: drop-shadow(0px 1px 2px rgba(0, 0, 0, 0.3));\n",
              "      fill: #FFFFFF;\n",
              "    }\n",
              "  </style>\n",
              "\n",
              "      <script>\n",
              "        const buttonEl =\n",
              "          document.querySelector('#df-705c42b8-7fe7-4657-a33b-9ac64f963523 button.colab-df-convert');\n",
              "        buttonEl.style.display =\n",
              "          google.colab.kernel.accessAllowed ? 'block' : 'none';\n",
              "\n",
              "        async function convertToInteractive(key) {\n",
              "          const element = document.querySelector('#df-705c42b8-7fe7-4657-a33b-9ac64f963523');\n",
              "          const dataTable =\n",
              "            await google.colab.kernel.invokeFunction('convertToInteractive',\n",
              "                                                     [key], {});\n",
              "          if (!dataTable) return;\n",
              "\n",
              "          const docLinkHtml = 'Like what you see? Visit the ' +\n",
              "            '<a target=\"_blank\" href=https://colab.research.google.com/notebooks/data_table.ipynb>data table notebook</a>'\n",
              "            + ' to learn more about interactive tables.';\n",
              "          element.innerHTML = '';\n",
              "          dataTable['output_type'] = 'display_data';\n",
              "          await google.colab.output.renderOutput(dataTable, element);\n",
              "          const docLink = document.createElement('div');\n",
              "          docLink.innerHTML = docLinkHtml;\n",
              "          element.appendChild(docLink);\n",
              "        }\n",
              "      </script>\n",
              "    </div>\n",
              "  </div>\n",
              "  "
            ],
            "text/plain": [
              "                                               masks                                             images\n",
              "0  Human-Segmentation-Dataset-master/Ground_Truth...  Human-Segmentation-Dataset-master/Training_Ima...\n",
              "1  Human-Segmentation-Dataset-master/Ground_Truth...  Human-Segmentation-Dataset-master/Training_Ima...\n",
              "2  Human-Segmentation-Dataset-master/Ground_Truth...  Human-Segmentation-Dataset-master/Training_Ima...\n",
              "3  Human-Segmentation-Dataset-master/Ground_Truth...  Human-Segmentation-Dataset-master/Training_Ima...\n",
              "4  Human-Segmentation-Dataset-master/Ground_Truth...  Human-Segmentation-Dataset-master/Training_Ima..."
            ]
          },
          "metadata": {},
          "execution_count": 6
        }
      ]
    },
    {
      "cell_type": "code",
      "metadata": {
        "id": "anonymous-conducting"
      },
      "source": [
        "row=df.iloc[4]\n",
        "image_path,mask_path=row.images,row.masks\n",
        "\n",
        "image=cv2.imread(image_path)\n",
        "image= cv2.cvtColor(image, cv2.COLOR_BGR2RGB)\n",
        "\n",
        "mask=cv2.imread(mask_path , cv2.IMREAD_GRAYSCALE) / 255"
      ],
      "id": "anonymous-conducting",
      "execution_count": 7,
      "outputs": []
    },
    {
      "cell_type": "code",
      "metadata": {
        "id": "superb-belle",
        "outputId": "99df145d-31f6-4be2-b59a-51bd2bb950c1",
        "colab": {
          "base_uri": "https://localhost:8080/",
          "height": 250
        }
      },
      "source": [
        "f, (ax1, ax2) = plt.subplots(1, 2, figsize=(10,5))\n",
        "        \n",
        "ax1.set_title('IMAGE')\n",
        "ax1.imshow(image)\n",
        "\n",
        "ax2.set_title('GROUND TRUTH')\n",
        "ax2.imshow(mask,cmap = 'gray')"
      ],
      "id": "superb-belle",
      "execution_count": 8,
      "outputs": [
        {
          "output_type": "execute_result",
          "data": {
            "text/plain": [
              "<matplotlib.image.AxesImage at 0x7f29a7cd7e50>"
            ]
          },
          "metadata": {},
          "execution_count": 8
        },
        {
          "output_type": "display_data",
          "data": {
            "image/png": "[encoded data removed]",
            "text/plain": [
              "<Figure size 720x360 with 2 Axes>"
            ]
          },
          "metadata": {
            "needs_background": "light"
          }
        }
      ]
    },
    {
      "cell_type": "code",
      "metadata": {
        "id": "fabulous-peripheral"
      },
      "source": [
        "train ,test=train_test_split(df,test_size=0.2,random_state=42)"
      ],
      "id": "fabulous-peripheral",
      "execution_count": 9,
      "outputs": []
    },
    {
      "cell_type": "markdown",
      "metadata": {
        "id": "fancy-knock"
      },
      "source": [
        "#  Augmentation Functions"
      ],
      "id": "fancy-knock"
    },
    {
      "cell_type": "markdown",
      "metadata": {
        "id": "further-vietnamese"
      },
      "source": [
        ""
      ],
      "id": "further-vietnamese"
    },
    {
      "cell_type": "code",
      "metadata": {
        "id": "rocky-pavilion"
      },
      "source": [
        "import albumentations as A"
      ],
      "id": "rocky-pavilion",
      "execution_count": 10,
      "outputs": []
    },
    {
      "cell_type": "code",
      "metadata": {
        "id": "possible-cinema"
      },
      "source": [
        "from albumentations.augmentations.transforms import VerticalFlip\n",
        "def get_train_augs():\n",
        "  return A.Compose([\n",
        "        A.Resize(IMAGE_SIZE,IMAGE_SIZE),\n",
        "        A.HorizontalFlip(p= 0.5),\n",
        "        A.VerticalFlip(p=0.5)\n",
        "  ])\n",
        "def get_test_augs():\n",
        "  return A.Compose([\n",
        "        A.Resize(IMAGE_SIZE,IMAGE_SIZE)\n",
        "  ])"
      ],
      "id": "possible-cinema",
      "execution_count": 11,
      "outputs": []
    },
    {
      "cell_type": "markdown",
      "metadata": {
        "id": "ceramic-closer"
      },
      "source": [
        "# Creating Custom Dataset "
      ],
      "id": "ceramic-closer"
    },
    {
      "cell_type": "code",
      "metadata": {
        "id": "anonymous-wagon"
      },
      "source": [
        "\n",
        "from torch.utils.data import Dataset"
      ],
      "id": "anonymous-wagon",
      "execution_count": 12,
      "outputs": []
    },
    {
      "cell_type": "code",
      "metadata": {
        "id": "rubber-humanitarian"
      },
      "source": [
        "class dataset_seg(Dataset):\n",
        "  \"Segmenting the data \"\n",
        "  def __init__(self,df , augmentations):\n",
        "    self.df=df\n",
        "    self.augmentations= augmentations \n",
        "\n",
        "  def __len__(self):\n",
        "    return len(self.df)\n",
        "\n",
        "  def __getitem__(self, idx):\n",
        "    row=self.df.iloc[idx]\n",
        "\n",
        "    image_path=row.images\n",
        "    mask_path=row.masks\n",
        "\n",
        "    image =cv2.imread(image_path,1)\n",
        "    image =cv2.cvtColor(image , cv2.COLOR_BGR2RGB)\n",
        "\n",
        "    mask= cv2.imread(mask_path, cv2.IMREAD_GRAYSCALE)\n",
        "    mask= np.expand_dims(mask, axis=-1)\n",
        "\n",
        "    if self.augmentations:\n",
        "      data= self.augmentations(image= image ,mask= mask)\n",
        "      image=data['image']\n",
        "      mask= data['mask']\n",
        "    \n",
        "    # changing the indexs of images from (Hieght,width,channel) to (channel, hieght, width)\n",
        "    image = np.transpose(image,(2,0,1)).astype(np.float32)\n",
        "    mask= np.transpose(mask, (2,0,1)).astype(np.float32)\n",
        "\n",
        "    # converting images to tensors between 0 and 1  and rounding the mask to either  \n",
        "    image=torch.tensor(image) / 255.0\n",
        "    mask= torch.round( torch.tensor(mask) /255.0) \n",
        "  \n",
        "    return image, mask"
      ],
      "id": "rubber-humanitarian",
      "execution_count": 13,
      "outputs": []
    },
    {
      "cell_type": "code",
      "metadata": {
        "id": "looking-lightning"
      },
      "source": [
        "trainset=dataset_seg(train,get_train_augs())\n",
        "testset= dataset_seg(test, get_test_augs())"
      ],
      "id": "looking-lightning",
      "execution_count": 14,
      "outputs": []
    },
    {
      "cell_type": "code",
      "metadata": {
        "id": "gothic-extreme",
        "outputId": "7731487a-e1cc-4c0d-87df-d4eb63bf741a",
        "colab": {
          "base_uri": "https://localhost:8080/"
        }
      },
      "source": [
        "print(f\"Size of Trainset : {len(trainset)}\")\n",
        "print(f\"Size of testset : {len(testset)}\")"
      ],
      "id": "gothic-extreme",
      "execution_count": 15,
      "outputs": [
        {
          "output_type": "stream",
          "name": "stdout",
          "text": [
            "Size of Trainset : 232\n",
            "Size of testset : 58\n"
          ]
        }
      ]
    },
    {
      "cell_type": "code",
      "source": [
        ""
      ],
      "metadata": {
        "id": "ZBtHmlrRYx8Y"
      },
      "id": "ZBtHmlrRYx8Y",
      "execution_count": 15,
      "outputs": []
    },
    {
      "cell_type": "code",
      "metadata": {
        "id": "aging-being",
        "outputId": "f6c7d8db-9e25-401e-f9f9-0a6340a1289a",
        "colab": {
          "base_uri": "https://localhost:8080/",
          "height": 318
        }
      },
      "source": [
        "idx=35\n",
        "image , mask= trainset[idx]\n",
        "helper.show_image(image,mask)"
      ],
      "id": "aging-being",
      "execution_count": 16,
      "outputs": [
        {
          "output_type": "display_data",
          "data": {
            "image/png": "[encoded data removed]",
            "text/plain": [
              "<Figure size 720x360 with 2 Axes>"
            ]
          },
          "metadata": {
            "needs_background": "light"
          }
        }
      ]
    },
    {
      "cell_type": "markdown",
      "metadata": {
        "id": "impossible-literature"
      },
      "source": [
        "#  Load dataset into batches"
      ],
      "id": "impossible-literature"
    },
    {
      "cell_type": "code",
      "metadata": {
        "id": "honey-paraguay"
      },
      "source": [
        "from torch.utils.data import DataLoader"
      ],
      "id": "honey-paraguay",
      "execution_count": 17,
      "outputs": []
    },
    {
      "cell_type": "code",
      "metadata": {
        "id": "lesbian-terror"
      },
      "source": [
        "train_loader=DataLoader(trainset,batch_size=BATCH_SIZE,shuffle=True)\n",
        "test_loader=DataLoader(testset,batch_size=BATCH_SIZE,shuffle=True)\n"
      ],
      "id": "lesbian-terror",
      "execution_count": 18,
      "outputs": []
    },
    {
      "cell_type": "code",
      "metadata": {
        "id": "saved-blend",
        "outputId": "4a78b6bf-239e-441a-84e2-eff3f2ccd50b",
        "colab": {
          "base_uri": "https://localhost:8080/"
        }
      },
      "source": [
        "print (f\"total NO of Batches in trainloader: {len(train_loader)}\")\n",
        "print (f\"total NO of Batches in testloader: {len(test_loader)}\")"
      ],
      "id": "saved-blend",
      "execution_count": 19,
      "outputs": [
        {
          "output_type": "stream",
          "name": "stdout",
          "text": [
            "total NO of Batches in trainloader: 15\n",
            "total NO of Batches in testloader: 4\n"
          ]
        }
      ]
    },
    {
      "cell_type": "code",
      "metadata": {
        "id": "heard-nightmare",
        "outputId": "9ddc1972-499a-43a1-f10f-740884946c83",
        "colab": {
          "base_uri": "https://localhost:8080/"
        }
      },
      "source": [
        "for image ,mask in train_loader:\n",
        "  break\n",
        "print (f'one batch image shape :{image.shape} ')\n",
        "print (f'one batch mask shape :{mask.shape} ')"
      ],
      "id": "heard-nightmare",
      "execution_count": 20,
      "outputs": [
        {
          "output_type": "stream",
          "name": "stdout",
          "text": [
            "one batch image shape :torch.Size([16, 3, 320, 320]) \n",
            "one batch mask shape :torch.Size([16, 1, 320, 320]) \n"
          ]
        }
      ]
    },
    {
      "cell_type": "markdown",
      "metadata": {
        "id": "fiscal-genome"
      },
      "source": [
        "#  Creating  Segmentation Model"
      ],
      "id": "fiscal-genome"
    },
    {
      "cell_type": "code",
      "source": [
        ""
      ],
      "metadata": {
        "id": "IAGUdbOQheXv"
      },
      "id": "IAGUdbOQheXv",
      "execution_count": 20,
      "outputs": []
    },
    {
      "cell_type": "code",
      "metadata": {
        "id": "protected-emphasis"
      },
      "source": [
        "from torch import nn \n",
        "import segmentation_models_pytorch as smp \n",
        "from segmentation_models_pytorch.losses import DiceLoss"
      ],
      "id": "protected-emphasis",
      "execution_count": 21,
      "outputs": []
    },
    {
      "cell_type": "code",
      "metadata": {
        "id": "stopped-treaty"
      },
      "source": [
        "class SegmentationModel(nn.Module):\n",
        "\n",
        "  def __init__(self):\n",
        "    # declaring a super class for the model \n",
        "    super(SegmentationModel,self).__init__()\n",
        "    #declaring the Model arc \n",
        "    self.arc= smp.Unet(\n",
        "        encoder_name=ENCODER,\n",
        "        encoder_weights=WIEGHTS,\n",
        "        in_channels=3,\n",
        "        classes = 1,\n",
        "        activation = None \n",
        "    )\n",
        "\n",
        "  def forward(self, images, masks=None):\n",
        "    #defining the loss \n",
        "    logits=self.arc(images)\n",
        "\n",
        "    if masks!=None: \n",
        "      #Calculating the Loss \n",
        "      loss1= DiceLoss(mode='binary')(logits,masks)\n",
        "      loss2= nn.BCEWithLogitsLoss()(logits,masks)\n",
        "      return logits, loss1 + loss2\n",
        "\n",
        "    return logits "
      ],
      "id": "stopped-treaty",
      "execution_count": 22,
      "outputs": []
    },
    {
      "cell_type": "code",
      "metadata": {
        "id": "christian-settlement",
        "colab": {
          "base_uri": "https://localhost:8080/",
          "height": 66,
          "referenced_widgets": [
            "a0fbec6644804ffebb541cb133372f94",
            "2cdd32a49dd9456b8d7f1a62be7f700a",
            "951f69b914114f9fb08e5d824b59abe7",
            "6522df4346df442f88b8d873537e674e",
            "3595116551d646c0899b6ce931e0eb8d",
            "41a609a800b04140a4bc4fb5d4ab1733",
            "01a61b6ac0fa47909d745311e5d081f5",
            "5edf92986a1346f09b0ac13ffac38436",
            "2ecd1818a9724a969713fbd83e7815d8",
            "d2e81984903f4515afa0aa7af98d052c",
            "da16498db769482ea40d9cb2cb0ba7a9"
          ]
        },
        "outputId": "5f103cf9-0770-4c45-e27c-58e9adbf843a"
      },
      "source": [
        "model=SegmentationModel()\n",
        "model.to(DEVICE);"
      ],
      "id": "christian-settlement",
      "execution_count": 23,
      "outputs": [
        {
          "output_type": "stream",
          "name": "stderr",
          "text": [
            "Downloading: \"https://github.com/rwightman/pytorch-image-models/releases/download/v0.1-weights/tf_efficientnet_b0_aa-827b6e33.pth\" to /root/.cache/torch/hub/checkpoints/tf_efficientnet_b0_aa-827b6e33.pth\n"
          ]
        },
        {
          "output_type": "display_data",
          "data": {
            "application/vnd.jupyter.widget-view+json": {
              "model_id": "a0fbec6644804ffebb541cb133372f94",
              "version_minor": 0,
              "version_major": 2
            },
            "text/plain": [
              "  0%|          | 0.00/20.4M [00:00<?, ?B/s]"
            ]
          },
          "metadata": {}
        }
      ]
    },
    {
      "cell_type": "markdown",
      "metadata": {
        "id": "threaded-bracket"
      },
      "source": [
        "#  Creating Train and Validation Functions"
      ],
      "id": "threaded-bracket"
    },
    {
      "cell_type": "code",
      "metadata": {
        "id": "alone-voltage"
      },
      "source": [
        "def train_fn(data_loader, model , optimizer) :\n",
        " # TRAINING THE MODEL \n",
        "  model.train()\n",
        "  #DEFINING THE LOSS AT 0.0 \n",
        "  total_loss=0.0\n",
        "  # DOWNLOADING THE IMAGES AND MASKS TO DEVICE \n",
        "  for images, masks in tqdm(data_loader):\n",
        "    images= images.to(DEVICE)\n",
        "    masks= masks.to(DEVICE)\n",
        "\n",
        "    #INITIATING THE OPTIMIZER\n",
        "    optimizer.zero_grad()\n",
        "    #EXTRACTING THE LOGITS AND LOSS \n",
        "    logits , loss= model(images ,masks)\n",
        "    loss.backward()\n",
        "    optimizer.step()\n",
        "\n",
        "    total_loss += loss.item()\n",
        "  return total_loss / len(data_loader)\n",
        "\n",
        "def test_fn(data_loader, model) :\n",
        "  model.eval()\n",
        "  total_loss=0.0\n",
        "\n",
        "  with torch.no_grad():\n",
        "    for images, masks in tqdm(data_loader):\n",
        "      images= images.to(DEVICE)\n",
        "      masks= masks.to(DEVICE)\n",
        "\n",
        "      \n",
        "      logits, loss= model(images,masks)\n",
        "\n",
        "      total_loss += loss.item()\n",
        "  return total_loss / len(data_loader)\n",
        "  "
      ],
      "id": "alone-voltage",
      "execution_count": 24,
      "outputs": []
    },
    {
      "cell_type": "code",
      "metadata": {
        "id": "whole-musician"
      },
      "source": [
        ""
      ],
      "id": "whole-musician",
      "execution_count": 24,
      "outputs": []
    },
    {
      "cell_type": "markdown",
      "metadata": {
        "id": "primary-variance"
      },
      "source": [
        "# Train Model"
      ],
      "id": "primary-variance"
    },
    {
      "cell_type": "code",
      "metadata": {
        "id": "floral-france"
      },
      "source": [
        "optimizer= torch.optim.Adam(model.parameters(),lr=LR)"
      ],
      "id": "floral-france",
      "execution_count": 25,
      "outputs": []
    },
    {
      "cell_type": "code",
      "metadata": {
        "id": "mounted-sword",
        "outputId": "9b5e5d14-f439-408b-9d1d-992dc9aeae21",
        "colab": {
          "base_uri": "https://localhost:8080/"
        }
      },
      "source": [
        "best_valid_loss=np.Inf\n",
        "\n",
        "for i in range(EPOCHS):\n",
        "  train_loss= train_fn(train_loader, model, optimizer)\n",
        "  valid_loss=test_fn(test_loader,model)\n",
        "\n",
        "  if valid_loss < best_valid_loss:\n",
        "    torch.save(model.state_dict(),'best_model')\n",
        "    print('Model_saved')\n",
        "\n",
        "    best_valid_loss=valid_loss\n",
        "  print(f'Epoch : {i+1} train_loss: {train_loss} Validation Loss {valid_loss}')\n"
      ],
      "id": "mounted-sword",
      "execution_count": 37,
      "outputs": [
        {
          "output_type": "stream",
          "name": "stderr",
          "text": [
            "100%|██████████| 15/15 [00:18<00:00,  1.21s/it]\n",
            "100%|██████████| 4/4 [00:01<00:00,  2.23it/s]\n"
          ]
        },
        {
          "output_type": "stream",
          "name": "stdout",
          "text": [
            "Model_saved\n",
            "Epoch : 1 train_loss: 0.10108938564856847 Validation Loss 0.16946575790643692\n"
          ]
        },
        {
          "output_type": "stream",
          "name": "stderr",
          "text": [
            "100%|██████████| 15/15 [00:18<00:00,  1.21s/it]\n",
            "100%|██████████| 4/4 [00:01<00:00,  2.22it/s]\n"
          ]
        },
        {
          "output_type": "stream",
          "name": "stdout",
          "text": [
            "Epoch : 2 train_loss: 0.10035902311404546 Validation Loss 0.17273575067520142\n"
          ]
        },
        {
          "output_type": "stream",
          "name": "stderr",
          "text": [
            "100%|██████████| 15/15 [00:18<00:00,  1.21s/it]\n",
            "100%|██████████| 4/4 [00:01<00:00,  2.23it/s]\n"
          ]
        },
        {
          "output_type": "stream",
          "name": "stdout",
          "text": [
            "Model_saved\n",
            "Epoch : 3 train_loss: 0.1027035449941953 Validation Loss 0.15690964832901955\n"
          ]
        },
        {
          "output_type": "stream",
          "name": "stderr",
          "text": [
            "100%|██████████| 15/15 [00:18<00:00,  1.21s/it]\n",
            "100%|██████████| 4/4 [00:01<00:00,  2.22it/s]\n"
          ]
        },
        {
          "output_type": "stream",
          "name": "stdout",
          "text": [
            "Model_saved\n",
            "Epoch : 4 train_loss: 0.09862596740325293 Validation Loss 0.142340037971735\n"
          ]
        },
        {
          "output_type": "stream",
          "name": "stderr",
          "text": [
            "100%|██████████| 15/15 [00:18<00:00,  1.21s/it]\n",
            "100%|██████████| 4/4 [00:01<00:00,  2.21it/s]\n"
          ]
        },
        {
          "output_type": "stream",
          "name": "stdout",
          "text": [
            "Epoch : 5 train_loss: 0.10496130337317784 Validation Loss 0.18555569648742676\n"
          ]
        },
        {
          "output_type": "stream",
          "name": "stderr",
          "text": [
            "100%|██████████| 15/15 [00:18<00:00,  1.23s/it]\n",
            "100%|██████████| 4/4 [00:01<00:00,  2.24it/s]\n"
          ]
        },
        {
          "output_type": "stream",
          "name": "stdout",
          "text": [
            "Epoch : 6 train_loss: 0.09256737033526102 Validation Loss 0.15712356567382812\n"
          ]
        },
        {
          "output_type": "stream",
          "name": "stderr",
          "text": [
            "100%|██████████| 15/15 [00:18<00:00,  1.21s/it]\n",
            "100%|██████████| 4/4 [00:01<00:00,  2.23it/s]\n"
          ]
        },
        {
          "output_type": "stream",
          "name": "stdout",
          "text": [
            "Epoch : 7 train_loss: 0.08606743936737378 Validation Loss 0.17620350420475006\n"
          ]
        },
        {
          "output_type": "stream",
          "name": "stderr",
          "text": [
            "100%|██████████| 15/15 [00:18<00:00,  1.21s/it]\n",
            "100%|██████████| 4/4 [00:01<00:00,  2.20it/s]\n"
          ]
        },
        {
          "output_type": "stream",
          "name": "stdout",
          "text": [
            "Epoch : 8 train_loss: 0.08708343158165614 Validation Loss 0.17957138642668724\n"
          ]
        },
        {
          "output_type": "stream",
          "name": "stderr",
          "text": [
            "100%|██████████| 15/15 [00:18<00:00,  1.21s/it]\n",
            "100%|██████████| 4/4 [00:01<00:00,  2.23it/s]\n"
          ]
        },
        {
          "output_type": "stream",
          "name": "stdout",
          "text": [
            "Epoch : 9 train_loss: 0.07658733526865641 Validation Loss 0.17850958928465843\n"
          ]
        },
        {
          "output_type": "stream",
          "name": "stderr",
          "text": [
            "100%|██████████| 15/15 [00:18<00:00,  1.21s/it]\n",
            "100%|██████████| 4/4 [00:01<00:00,  2.21it/s]\n"
          ]
        },
        {
          "output_type": "stream",
          "name": "stdout",
          "text": [
            "Epoch : 10 train_loss: 0.077200036495924 Validation Loss 0.16785838454961777\n"
          ]
        },
        {
          "output_type": "stream",
          "name": "stderr",
          "text": [
            "100%|██████████| 15/15 [00:18<00:00,  1.21s/it]\n",
            "100%|██████████| 4/4 [00:01<00:00,  2.18it/s]\n"
          ]
        },
        {
          "output_type": "stream",
          "name": "stdout",
          "text": [
            "Epoch : 11 train_loss: 0.07865260789791743 Validation Loss 0.20115600153803825\n"
          ]
        },
        {
          "output_type": "stream",
          "name": "stderr",
          "text": [
            "100%|██████████| 15/15 [00:18<00:00,  1.22s/it]\n",
            "100%|██████████| 4/4 [00:01<00:00,  2.22it/s]\n"
          ]
        },
        {
          "output_type": "stream",
          "name": "stdout",
          "text": [
            "Epoch : 12 train_loss: 0.1042460689942042 Validation Loss 0.2819581590592861\n"
          ]
        },
        {
          "output_type": "stream",
          "name": "stderr",
          "text": [
            "100%|██████████| 15/15 [00:18<00:00,  1.21s/it]\n",
            "100%|██████████| 4/4 [00:01<00:00,  2.19it/s]\n"
          ]
        },
        {
          "output_type": "stream",
          "name": "stdout",
          "text": [
            "Epoch : 13 train_loss: 0.13857297698656718 Validation Loss 0.21552948653697968\n"
          ]
        },
        {
          "output_type": "stream",
          "name": "stderr",
          "text": [
            "100%|██████████| 15/15 [00:18<00:00,  1.22s/it]\n",
            "100%|██████████| 4/4 [00:01<00:00,  2.20it/s]\n"
          ]
        },
        {
          "output_type": "stream",
          "name": "stdout",
          "text": [
            "Epoch : 14 train_loss: 0.16293190866708757 Validation Loss 0.27824942022562027\n"
          ]
        },
        {
          "output_type": "stream",
          "name": "stderr",
          "text": [
            "100%|██████████| 15/15 [00:18<00:00,  1.21s/it]\n",
            "100%|██████████| 4/4 [00:01<00:00,  2.23it/s]\n"
          ]
        },
        {
          "output_type": "stream",
          "name": "stdout",
          "text": [
            "Epoch : 15 train_loss: 0.16988347470760345 Validation Loss 0.21186307072639465\n"
          ]
        },
        {
          "output_type": "stream",
          "name": "stderr",
          "text": [
            "100%|██████████| 15/15 [00:18<00:00,  1.21s/it]\n",
            "100%|██████████| 4/4 [00:01<00:00,  2.21it/s]\n"
          ]
        },
        {
          "output_type": "stream",
          "name": "stdout",
          "text": [
            "Epoch : 16 train_loss: 0.13597250431776048 Validation Loss 0.21711565926671028\n"
          ]
        },
        {
          "output_type": "stream",
          "name": "stderr",
          "text": [
            "100%|██████████| 15/15 [00:18<00:00,  1.21s/it]\n",
            "100%|██████████| 4/4 [00:01<00:00,  2.21it/s]\n"
          ]
        },
        {
          "output_type": "stream",
          "name": "stdout",
          "text": [
            "Epoch : 17 train_loss: 0.10912229965130488 Validation Loss 0.1856738068163395\n"
          ]
        },
        {
          "output_type": "stream",
          "name": "stderr",
          "text": [
            "100%|██████████| 15/15 [00:18<00:00,  1.21s/it]\n",
            "100%|██████████| 4/4 [00:01<00:00,  2.25it/s]\n"
          ]
        },
        {
          "output_type": "stream",
          "name": "stdout",
          "text": [
            "Epoch : 18 train_loss: 0.08943603833516439 Validation Loss 0.18180880323052406\n"
          ]
        },
        {
          "output_type": "stream",
          "name": "stderr",
          "text": [
            "100%|██████████| 15/15 [00:18<00:00,  1.21s/it]\n",
            "100%|██████████| 4/4 [00:01<00:00,  2.22it/s]\n"
          ]
        },
        {
          "output_type": "stream",
          "name": "stdout",
          "text": [
            "Epoch : 19 train_loss: 0.08389196991920471 Validation Loss 0.15459471195936203\n"
          ]
        },
        {
          "output_type": "stream",
          "name": "stderr",
          "text": [
            "100%|██████████| 15/15 [00:18<00:00,  1.21s/it]\n",
            "100%|██████████| 4/4 [00:01<00:00,  2.23it/s]\n"
          ]
        },
        {
          "output_type": "stream",
          "name": "stdout",
          "text": [
            "Epoch : 20 train_loss: 0.0880653162797292 Validation Loss 0.1781613901257515\n"
          ]
        },
        {
          "output_type": "stream",
          "name": "stderr",
          "text": [
            "100%|██████████| 15/15 [00:18<00:00,  1.21s/it]\n",
            "100%|██████████| 4/4 [00:01<00:00,  2.23it/s]\n"
          ]
        },
        {
          "output_type": "stream",
          "name": "stdout",
          "text": [
            "Epoch : 21 train_loss: 0.0856817881266276 Validation Loss 0.17410940676927567\n"
          ]
        },
        {
          "output_type": "stream",
          "name": "stderr",
          "text": [
            "100%|██████████| 15/15 [00:18<00:00,  1.21s/it]\n",
            "100%|██████████| 4/4 [00:01<00:00,  2.19it/s]\n"
          ]
        },
        {
          "output_type": "stream",
          "name": "stdout",
          "text": [
            "Epoch : 22 train_loss: 0.0772319513062636 Validation Loss 0.17862678319215775\n"
          ]
        },
        {
          "output_type": "stream",
          "name": "stderr",
          "text": [
            "100%|██████████| 15/15 [00:18<00:00,  1.21s/it]\n",
            "100%|██████████| 4/4 [00:01<00:00,  2.21it/s]\n"
          ]
        },
        {
          "output_type": "stream",
          "name": "stdout",
          "text": [
            "Epoch : 23 train_loss: 0.0745310162504514 Validation Loss 0.16470081731677055\n"
          ]
        },
        {
          "output_type": "stream",
          "name": "stderr",
          "text": [
            "100%|██████████| 15/15 [00:18<00:00,  1.21s/it]\n",
            "100%|██████████| 4/4 [00:01<00:00,  2.23it/s]\n"
          ]
        },
        {
          "output_type": "stream",
          "name": "stdout",
          "text": [
            "Epoch : 24 train_loss: 0.0722934735318025 Validation Loss 0.17577010206878185\n"
          ]
        },
        {
          "output_type": "stream",
          "name": "stderr",
          "text": [
            "100%|██████████| 15/15 [00:18<00:00,  1.21s/it]\n",
            "100%|██████████| 4/4 [00:01<00:00,  2.23it/s]"
          ]
        },
        {
          "output_type": "stream",
          "name": "stdout",
          "text": [
            "Epoch : 25 train_loss: 0.08366155475378037 Validation Loss 0.183130644261837\n"
          ]
        },
        {
          "output_type": "stream",
          "name": "stderr",
          "text": [
            "\n"
          ]
        }
      ]
    },
    {
      "cell_type": "markdown",
      "metadata": {
        "id": "CVVzhk0HupfA"
      },
      "source": [
        "# **Inference**"
      ],
      "id": "CVVzhk0HupfA"
    },
    {
      "cell_type": "code",
      "metadata": {
        "id": "seventh-seating"
      },
      "source": [
        "import logging\n",
        "idx= 20 \n",
        "\n",
        "model.load_state_dict(torch.load('/content/best_model'))\n",
        "image , mask = testset[idx]\n",
        "logits_mask= model(image.to(DEVICE).unsqueeze(0)) #(Channel,Hieght,Weight)=> (1,channel,hieght,weight)\n",
        "\n",
        "pred_mask= torch.sigmoid(logits_mask)\n",
        "pred_mask=(pred_mask > 0.05)*1.0\n"
      ],
      "id": "seventh-seating",
      "execution_count": 40,
      "outputs": []
    },
    {
      "cell_type": "code",
      "source": [
        "helper.show_image(image,mask,pred_mask.detach().cpu().squeeze(0))"
      ],
      "metadata": {
        "colab": {
          "base_uri": "https://localhost:8080/",
          "height": 228
        },
        "id": "J_0Ck-Xj0QZL",
        "outputId": "67ca9062-8122-42b4-8c04-22b45c5537cc"
      },
      "id": "J_0Ck-Xj0QZL",
      "execution_count": 41,
      "outputs": [
        {
          "output_type": "display_data",
          "data": {
            "image/png": "[encoded data removed]",
            "text/plain": [
              "<Figure size 720x360 with 3 Axes>"
            ]
          },
          "metadata": {
            "needs_background": "light"
          }
        }
      ]
    },
    {
      "cell_type": "code",
      "source": [
        ""
      ],
      "metadata": {
        "id": "ViVdwXLrxOpx"
      },
      "id": "ViVdwXLrxOpx",
      "execution_count": null,
      "outputs": []
    },
    {
      "cell_type": "code",
      "metadata": {
        "id": "divided-mustang"
      },
      "source": [
        ""
      ],
      "id": "divided-mustang",
      "execution_count": null,
      "outputs": []
    }
  ]
}